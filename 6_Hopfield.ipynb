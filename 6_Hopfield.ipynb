{
 "cells": [
  {
   "cell_type": "markdown",
   "id": "b968dc49-cdc9-4a50-bb93-cdc0119ea2ed",
   "metadata": {},
   "source": [
    "Author: Pierce Rotman\n",
    "\n",
    "Professor: Pashaie\n",
    "\n",
    "Course: CAP 6673\n",
    "\n",
    "Date: 12 November 2023\n",
    "\n",
    "Create a Hopfield neural network containing patterns of digits. Use this network to update noisy versions of these digits and record the accuracy of the network.\n",
    "\n",
    "First we initialize the patterns."
   ]
  },
  {
   "cell_type": "code",
   "execution_count": 5,
   "id": "538c478a-1e7a-498b-8721-62f6c6895dba",
   "metadata": {},
   "outputs": [],
   "source": [
    "import numpy as np\n",
    "from PIL import Image\n",
    "import random\n",
    "import pandas as pd\n",
    "\n",
    "\n",
    "#Initialize memories\n",
    "zero = np.array([-1, 1, 1, 1, -1,\n",
    "                 1, -1, -1, -1, 1,\n",
    "                 1, -1, -1, -1, 1,\n",
    "                 1, -1, -1, -1, 1,\n",
    "                 1, -1, -1, -1, 1,\n",
    "                 -1, 1, 1, 1, -1])\n",
    "one = np.array([-1, 1, 1, -1, -1,\n",
    "                -1, -1, 1, -1, -1,\n",
    "                -1, -1, 1, -1, -1,\n",
    "                -1, -1, 1, -1, -1,\n",
    "                -1, -1, 1, -1, -1,\n",
    "                -1, -1, 1, -1, -1])\n",
    "two = np.array([1, 1, 1, -1, -1,\n",
    "                -1, -1, -1, 1, -1,\n",
    "                -1, -1, -1, 1, -1,\n",
    "                -1, 1, 1, -1, -1,\n",
    "                1, 1, -1, -1, -1,\n",
    "                -1, 1, 1, 1, 1])\n",
    "three = np.array([-1, 1, 1, 1, -1,\n",
    "                  -1, -1, -1, -1, 1,\n",
    "                  -1, -1, 1, 1, 1,\n",
    "                  -1, -1, -1, -1, 1,\n",
    "                  -1, 1, 1, 1, -1,\n",
    "                  -1, -1, -1, -1, -1])\n",
    "four = np.array([1, -1, -1, 1, -1,\n",
    "                 1, -1, -1, 1, -1,\n",
    "                 1, -1, -1, 1, -1,\n",
    "                 1, 1, 1, 1, 1,\n",
    "                 -1, -1, -1, 1, -1,\n",
    "                 -1, -1, -1, 1, -1])\n",
    "five = np.array([1, 1, 1, 1, 1,\n",
    "                 1, -1, -1, -1, -1,\n",
    "                 1, 1, 1, 1, -1,\n",
    "                 -1, -1, -1, 1, -1,\n",
    "                 -1, -1, -1, 1, -1,\n",
    "                 1, 1, 1, 1, -1])\n",
    "six = np.array([1, -1, -1, -1, -1,\n",
    "                1, -1, -1, -1, -1,\n",
    "                1, 1, 1, 1, 1,\n",
    "                1, -1, -1, -1, 1,\n",
    "                1, -1, -1, -1, 1,\n",
    "                1, 1, 1, 1, 1])\n",
    "seven = np.array([1, 1, 1, 1, -1,\n",
    "                  -1, -1, -1, 1, -1,\n",
    "                  -1, -1, -1, 1, -1,\n",
    "                  -1, -1, -1, 1, -1,\n",
    "                  -1, -1, -1, 1, -1,\n",
    "                  -1, -1, -1, 1, -1,])\n",
    "eight = np.array([-1, -1, -1, -1, -1,\n",
    "                  -1, 1, 1, 1, -1,\n",
    "                  1, -1, -1, -1, 1,\n",
    "                  1, 1, 1, 1, 1,\n",
    "                  1, -1, -1, -1, 1,\n",
    "                  -1, 1, 1, 1, -1])\n",
    "nine = np.array([1, 1, 1, 1, 1,\n",
    "                 1, -1, -1, -1, 1,\n",
    "                 1, -1, -1, -1, 1,\n",
    "                 1, 1, 1, 1, 1,\n",
    "                 -1, -1, -1, -1, 1, \n",
    "                 -1, -1, -1, -1, 1])\n",
    "pattern_list = [zero, one, two, three, four, \n",
    "               five, six, seven, eight, nine]\n",
    "pattern_list = [pattern.flatten() for pattern in pattern_list]\n",
    "\n",
    "\n"
   ]
  },
  {
   "cell_type": "markdown",
   "id": "d09c1e82-4ee9-4b39-a7e6-b19e83d76088",
   "metadata": {},
   "source": [
    "Part a. and b. In this part, we write the functions for generating the Hopfield network containing only patterns 0 and 1, adding noise to patterns, and iterating through the network."
   ]
  },
  {
   "cell_type": "code",
   "execution_count": 6,
   "id": "20a34ea4-a638-498e-8979-973fcfd150eb",
   "metadata": {},
   "outputs": [
    {
     "name": "stdout",
     "output_type": "stream",
     "text": [
      "Number of initial errors in each pattern: 2\n",
      "\tPercent Failure: Zero: 0%,\n",
      "\t\t\t One: 0%\n",
      "Number of initial errors in each pattern: 4\n",
      "\tPercent Failure: Zero: 0%,\n",
      "\t\t\t One: 0%\n",
      "Number of initial errors in each pattern: 6\n",
      "\tPercent Failure: Zero: 0%,\n",
      "\t\t\t One: 0%\n"
     ]
    }
   ],
   "source": [
    "def build_weight(weight, patterns):\n",
    "    \"\"\"\n",
    "    Builds a weights vector for a Hopfield Network\n",
    "    Args:\n",
    "        weight (numpy.ndarray): existing weights vector\n",
    "        patterns (list): list of patterns in network\n",
    "    Returns:\n",
    "        none\n",
    "    \"\"\"\n",
    "    for i in range(30):\n",
    "        for j in range(30):\n",
    "            weight[j,i] = sum([pattern[i]*pattern[j] for pattern in patterns])\n",
    "    weight /= 30\n",
    "\n",
    "def noise(vectors, num_errors):\n",
    "    \"\"\"\n",
    "    Creates noisy vectors from neurons\n",
    "    Args:\n",
    "        neurons (list): list of neurons to alter\n",
    "        num_errors (int): number of errors to introduce\n",
    "    Returns:\n",
    "        noisy_neurons (list): updated list of noisy vectors\n",
    "    \"\"\"\n",
    "    noisy_vectors = []\n",
    "    for vector in vectors:\n",
    "        noisy = vector.copy()\n",
    "        for i in range(num_errors):\n",
    "            r1 = random.randint(0,29)\n",
    "            noisy[r1] *= -1\n",
    "        noisy_vectors.append(noisy)\n",
    "    \n",
    "    return noisy_vectors\n",
    "\n",
    "def iterate(noisy_vectors, num_errors):\n",
    "    \"\"\"\n",
    "    Iterates noisy vectors through a Hopfield network\n",
    "    Args:\n",
    "        noisy_vectors (list): list of noisy vectors\n",
    "        num_errors (int): number of errors in vectors\n",
    "    Returns:\n",
    "        none\n",
    "    \"\"\"\n",
    "    \n",
    "    for k in range(len(noisy_vectors)):\n",
    "        arr = noisy_vectors[k]\n",
    "        previous = arr\n",
    "        while(True):\n",
    "            temp = []\n",
    "            for i in range(30):\n",
    "                val = 0\n",
    "                for j in range(30):\n",
    "                    val += W[i,j] * previous[j]\n",
    "                val = np.sign(val)\n",
    "                temp.append(val)\n",
    "            arr = np.array(temp)\n",
    "            if np.array_equal(arr, previous):\n",
    "                break\n",
    "            previous = arr\n",
    "        noisy_vectors[k] = arr\n",
    "\n",
    "\n",
    "#Part a and b.\n",
    "W = np.zeros((30, 30))\n",
    "build_weight(W, pattern_list[0:2])\n",
    "\n",
    "for a in range(3):\n",
    "    \n",
    "    num_errors = 2*(a+1)\n",
    "    for b in range(10):\n",
    "        failures = {0:0, 1:0}\n",
    "        \n",
    "        #Generate noisy vectors from patterns\n",
    "        noisy_vectors = noise(pattern_list[0:2], num_errors)\n",
    "        \n",
    "        #Update noisy patterns\n",
    "        iterate(noisy_vectors, num_errors)\n",
    "        for c in range(len(noisy_vectors)):\n",
    "            if np.array_equal(noisy_vectors[0], pattern_list[0]) == False:\n",
    "                failures[c] += 1\n",
    "    print(f\"Number of initial errors in each pattern: {num_errors}\")\n",
    "    print(f\"\\tPercent Failure: Zero: {failures[0]*10}%,\"+\n",
    "          f\"\\n\\t\\t\\t One: {failures[1]*10}%\")\n",
    "        "
   ]
  },
  {
   "cell_type": "markdown",
   "id": "78ab0c8a-5844-46f2-b891-95a603efc175",
   "metadata": {},
   "source": [
    "Regardless of whether there are 2, 4, or 6 initial errors, the Hopfield network containing only patterns 0 and 1 is able to accurately update the noisy patterns with 0% failure for both the 0 and 1 patterns.\n",
    "\n",
    "Part c. Now, we do the same process as in part a. and b., but with a network containing patterns 0, 1, and 2."
   ]
  },
  {
   "cell_type": "code",
   "execution_count": 7,
   "id": "9bb12a58-4e01-46d1-8e97-5a34fa45c595",
   "metadata": {},
   "outputs": [
    {
     "name": "stdout",
     "output_type": "stream",
     "text": [
      "Number of initial errors in each pattern: 2\n",
      "\tPercent Failure: Zero: 0%,\n",
      "\t\t\t One: 0%,\n",
      "\t\t\t Two: 0%\n",
      "Number of initial errors in each pattern: 4\n",
      "\tPercent Failure: Zero: 0%,\n",
      "\t\t\t One: 0%,\n",
      "\t\t\t Two: 0%\n",
      "Number of initial errors in each pattern: 6\n",
      "\tPercent Failure: Zero: 0%,\n",
      "\t\t\t One: 0%,\n",
      "\t\t\t Two: 0%\n"
     ]
    }
   ],
   "source": [
    "#Part c\n",
    "#Generate new weights matrix with 0, 1, andf 2 neurons\n",
    "W = np.zeros((30,30))\n",
    "build_weight(W, pattern_list[0:3])\n",
    "for a in range(3):\n",
    "    \n",
    "    num_errors = 2*(a+1)\n",
    "    for b in range(10):\n",
    "        failures = {0:0, 1:0, 2:0}\n",
    "        #Generate noisy vectors\n",
    "        noisy_vectors = noise(pattern_list[0:3], num_errors)\n",
    "        #Update noisy \n",
    "        iterate(noisy_vectors, num_errors)\n",
    "        for c in range(len(noisy_vectors)):\n",
    "            if np.array_equal(noisy_vectors[c], pattern_list[c]) == False:\n",
    "                failures[c]+=1\n",
    "    print(f\"Number of initial errors in each pattern: {num_errors}\")\n",
    "    print(f\"\\tPercent Failure: Zero: {failures[0]*10}%,\"+\n",
    "         f\"\\n\\t\\t\\t One: {failures[1]*10}%,\"+\n",
    "         f\"\\n\\t\\t\\t Two: {failures[2]*10}%\")"
   ]
  },
  {
   "cell_type": "markdown",
   "id": "631cb0aa-8ef8-47b2-98fb-25f908fce707",
   "metadata": {},
   "source": [
    "Again, regardless of whether there are 2, 4, or 6 intial errors in the noisy patterns, the Hopfield network with patterns 0, 1, and 2 is able to correctly update the patterns with minimal (usually 0%) failure.\n",
    "\n",
    "Now, we use a Hopfield network containing patters for digits 0-6. "
   ]
  },
  {
   "cell_type": "code",
   "execution_count": 10,
   "id": "a908bf8f-564a-4add-bd17-e4acb9df6692",
   "metadata": {},
   "outputs": [
    {
     "name": "stdout",
     "output_type": "stream",
     "text": [
      "\tPercent Failure: Zero: 10%,\n",
      "\t\t\t One: 60%,\n",
      "\t\t\t Two: 0%,\n",
      "\t\t\t One: 20%,\n",
      "\t\t\t Two: 0%,\n",
      "\t\t\t One: 10%,\n",
      "\t\t\t Two: 30%\n",
      "\tPercent Failure: Zero: 40%,\n",
      "\t\t\t One: 40%,\n",
      "\t\t\t Two: 10%,\n",
      "\t\t\t One: 40%,\n",
      "\t\t\t Two: 10%,\n",
      "\t\t\t One: 30%,\n",
      "\t\t\t Two: 30%\n",
      "\tPercent Failure: Zero: 40%,\n",
      "\t\t\t One: 70%,\n",
      "\t\t\t Two: 30%,\n",
      "\t\t\t One: 60%,\n",
      "\t\t\t Two: 20%,\n",
      "\t\t\t One: 40%,\n",
      "\t\t\t Two: 50%\n"
     ]
    }
   ],
   "source": [
    "#Part d\n",
    "W = np.zeros((30,30))\n",
    "build_weight(W, pattern_list[0:7])\n",
    "df = pd.DataFrame()\n",
    "for a in range(3):\n",
    "    num_errors = 2*(a+1)\n",
    "    failures = [0, 0, 0, 0, 0, 0, 0]\n",
    "    for b in range(10):\n",
    "        #Generate noisy vectors\n",
    "        noisy_vectors = noise(pattern_list[0:7], num_errors)\n",
    "        #Update noisy vectors\n",
    "        iterate(noisy_vectors, num_errors)\n",
    "        for c in range(len(noisy_vectors)):\n",
    "            if np.array_equal(noisy_vectors[c], pattern_list[c]) == False:\n",
    "                failures[c]+=1\n",
    "    df[str(num_errors)] = failures\n",
    "    print(f\"\\tPercent Failure: Zero: {failures[0]*10}%,\"+\n",
    "         f\"\\n\\t\\t\\t One: {failures[1]*10}%,\"+\n",
    "         f\"\\n\\t\\t\\t Two: {failures[2]*10}%,\"+\n",
    "         f\"\\n\\t\\t\\t One: {failures[3]*10}%,\"+\n",
    "         f\"\\n\\t\\t\\t Two: {failures[4]*10}%,\"+\n",
    "         f\"\\n\\t\\t\\t One: {failures[5]*10}%,\"+\n",
    "         f\"\\n\\t\\t\\t Two: {failures[6]*10}%\")\n",
    "df *= 10"
   ]
  },
  {
   "cell_type": "markdown",
   "id": "04df3592-cb0d-4ef3-9e33-1417bd92aa69",
   "metadata": {},
   "source": [
    "Finally, we plot the percent error for each number of initial errors."
   ]
  },
  {
   "cell_type": "code",
   "execution_count": 11,
   "id": "04fe1132-9195-405c-a975-7b5fb9a30314",
   "metadata": {},
   "outputs": [
    {
     "data": {
      "image/png": "[encoded data removed]",
      "text/plain": [
       "<Figure size 640x480 with 1 Axes>"
      ]
     },
     "metadata": {},
     "output_type": "display_data"
    },
    {
     "data": {
      "image/png": "[encoded data removed]",
      "text/plain": [
       "<Figure size 640x480 with 1 Axes>"
      ]
     },
     "metadata": {},
     "output_type": "display_data"
    },
    {
     "data": {
      "image/png": "[encoded data removed]",
      "text/plain": [
       "<Figure size 640x480 with 1 Axes>"
      ]
     },
     "metadata": {},
     "output_type": "display_data"
    }
   ],
   "source": [
    "import matplotlib.pyplot as plt\n",
    "\n",
    "plt.bar(range(7), df['2'].tolist(), tick_label=list(df['2'].keys()))\n",
    "plt.title(\"2 Initial Errors\")\n",
    "plt.xlabel(\"Pattern\")\n",
    "plt.ylabel(\"Percent of failed updates\")\n",
    "plt.show()\n",
    "\n",
    "plt.bar(range(7), df['4'].tolist(), tick_label=list(df['4'].keys()))\n",
    "plt.title(\"4 Initial Errors\")\n",
    "plt.xlabel(\"Pattern\")\n",
    "plt.ylabel(\"Percent of failed updates\")\n",
    "plt.show()\n",
    "\n",
    "plt.bar(range(7), df['6'].tolist(), tick_label=list(df['6'].keys()))\n",
    "plt.title(\"6 Initial Errors\")\n",
    "plt.xlabel(\"Pattern\")\n",
    "plt.ylabel(\"Percent of failed updates\")\n",
    "plt.show()"
   ]
  },
  {
   "cell_type": "markdown",
   "id": "5523953e-7e14-445b-ba82-47e6f9c7b823",
   "metadata": {},
   "source": [
    "Clearly, having a more complicated network (including more patterns) affects the accuracy of the updates. As expected, when we have a greater number of initial errors, we also have a higher percentage of failed updates to the noisy patterns. This reveals a limitation of our network - when we have too many patterns or too much noise, the network is not effective at identifying digits. If there are fewer patterns, or less noise with more patterns, the network is more effective."
   ]
  }
 ],
 "metadata": {
  "kernelspec": {
   "display_name": "Python 3 (ipykernel)",
   "language": "python",
   "name": "python3"
  },
  "language_info": {
   "codemirror_mode": {
    "name": "ipython",
    "version": 3
   },
   "file_extension": ".py",
   "mimetype": "text/x-python",
   "name": "python",
   "nbconvert_exporter": "python",
   "pygments_lexer": "ipython3",
   "version": "3.11.2"
  }
 },
 "nbformat": 4,
 "nbformat_minor": 5
}
